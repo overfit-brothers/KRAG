{
 "cells": [
  {
   "cell_type": "code",
   "execution_count": 2,
   "id": "29bdaff2",
   "metadata": {},
   "outputs": [],
   "source": [
    "import json\n",
    "import torch\n",
    "from transformers import AutoModelForCausalLM, AutoTokenizer\n",
    "from tqdm import tqdm\n",
    "import os\n",
    "\n",
    "def read_json_file(file_path):\n",
    "    \"\"\"지정된 경로의 JSON 파일을 읽어 데이터를 반환합니다.\"\"\"\n",
    "    try:\n",
    "        with open(file_path, 'r', encoding='utf-8') as f:\n",
    "            data = json.load(f)\n",
    "        return data\n",
    "    except FileNotFoundError:\n",
    "        print(f\"오류: 파일을 찾을 수 없습니다 - {file_path}\")\n",
    "        return None\n",
    "    except json.JSONDecodeError:\n",
    "        print(f\"오류: JSON 디코딩 오류 - {file_path}\")\n",
    "        return None\n",
    "    except Exception as e:\n",
    "        print(f\"읽는 중 오류 발생 {file_path}: {e}\")\n",
    "        return None\n",
    "\n",
    "def save_results_to_json(data, file_path):\n",
    "    \"\"\"결과 데이터를 지정된 경로의 JSON 파일로 저장합니다.\"\"\"\n",
    "    try:\n",
    "        with open(file_path, 'w', encoding='utf-8') as f:\n",
    "            json.dump(data, f, ensure_ascii=False, indent=4)\n",
    "        print(f\"결과를 '{file_path}' 파일에 성공적으로 저장했습니다.\")\n",
    "    except Exception as e:\n",
    "        print(f\"결과 파일 저장 중 오류 발생: {e}\")"
   ]
  },
  {
   "cell_type": "code",
   "execution_count": 1,
   "id": "afd79f54",
   "metadata": {},
   "outputs": [],
   "source": [
    "base_dir = \"/home/infidea/rebirth-hjun/KRAG_2025/Dataset\"\n",
    "train_file_path = \"/home/infidea/rebirth-hjun/KRAG_2025/Dataset/korean_language_rag_V1.0_train.json\""
   ]
  },
  {
   "cell_type": "code",
   "execution_count": 3,
   "id": "2d040d6a",
   "metadata": {},
   "outputs": [],
   "source": [
    "train_json_data = read_json_file(train_file_path)"
   ]
  },
  {
   "cell_type": "code",
   "execution_count": 5,
   "id": "76101d81",
   "metadata": {},
   "outputs": [
    {
     "name": "stdout",
     "output_type": "stream",
     "text": [
      "선택형 문항 개수: 310\n",
      "교정형 문항 개수: 312\n"
     ]
    }
   ],
   "source": [
    "# 각 타입의 개수를 저장할 변수 초기화\n",
    "selection_type_count = 0\n",
    "correction_type_count = 0\n",
    "\n",
    "# 데이터 리스트를 순회하며 question_type 확인\n",
    "for item in train_json_data:\n",
    "    question_type = item.get(\"input\", {}).get(\"question_type\")\n",
    "    if question_type == \"선택형\":\n",
    "        selection_type_count += 1\n",
    "    elif question_type == \"교정형\":\n",
    "        correction_type_count += 1\n",
    "\n",
    "# 결과 출력\n",
    "print(f\"선택형 문항 개수: {selection_type_count}\")\n",
    "print(f\"교정형 문항 개수: {correction_type_count}\")"
   ]
  },
  {
   "cell_type": "code",
   "execution_count": 6,
   "id": "89aa7437",
   "metadata": {},
   "outputs": [
    {
     "name": "stdout",
     "output_type": "stream",
     "text": [
      "각 타입별 개수:\n",
      "\"다음 문장에서 어문 규범에 부합하지 않는 부분을 찾아 고치고, 그 이유를 설명하세요.\": 251개\n",
      "\"다음 중 어문 규범에 부합하는 것을 선택하고, 그 이유를 설명하세요.\": 12개\n",
      "\"다음 문장이 어문 규범에 부합하도록 문장 부호를 추가하고, 그 이유를 설명하세요.\": 19개\n",
      "\"다음 문장에서 어문 규범에 부합하도록 문장 부호를 추가하시오,\": 1개\n",
      "\"다음 문장에서 어문 규범에 부합하도록 문장 부호를 추가하고, 그 이유를 설명하세요.\": 7개\n",
      "\"다음 문장이 어문 규범에 부합하도록 문장 부호를 고치시오.\": 3개\n",
      "\"날짜를 표기할 때, 어떻게 표기하는 것이 적절한가?\": 1개\n",
      "\"아라비아 숫자로 연월일을 표기하고자 할 때, 다음 문장이 어문 규범에 부합하도록 문장 부호를 추가하고, 그 이유를 설명하세요.\": 1개\n",
      "\"다음 표현이 어문 규범에 부합하도록 문장 부호를 고치시오.\": 3개\n",
      "\"다음 중 어문 규범에 부합하는 것을 선택하고, 그 이유를 설명하세요. (두 날짜를 같이 표시할 때)\": 1개\n",
      "\"다음 문장에서 어문 규범에 부합하지 않은 부분을 찾아 고치고, 그 이유를 설명하세요.\": 1개\n",
      "\"다음 문장이 어문 규범에 부합하도록 괄호 안에 들어갈 문장 부호를 추가하고, 그 이유를 설명하세요.\": 3개\n"
     ]
    }
   ],
   "source": [
    "correction_type_question_prefixes = {}\n",
    "\n",
    "for item in train_json_data:\n",
    "    if item.get(\"input\", {}).get(\"question_type\") == \"교정형\":\n",
    "        question = item.get(\"input\", {}).get(\"question\", \"\")\n",
    "        if \"\\n\" in question:\n",
    "            prefix = question.split(\"\\n\")[0]\n",
    "            correction_type_question_prefixes[prefix] = correction_type_question_prefixes.get(prefix, 0) + 1\n",
    "\n",
    "print(\"각 타입별 개수:\")\n",
    "for prefix, count in correction_type_question_prefixes.items():\n",
    "    print(f'\"{prefix}\": {count}개')"
   ]
  },
  {
   "cell_type": "code",
   "execution_count": null,
   "id": "e2c6532e",
   "metadata": {},
   "outputs": [],
   "source": []
  }
 ],
 "metadata": {
  "kernelspec": {
   "display_name": "Python 3",
   "language": "python",
   "name": "python3"
  },
  "language_info": {
   "codemirror_mode": {
    "name": "ipython",
    "version": 3
   },
   "file_extension": ".py",
   "mimetype": "text/x-python",
   "name": "python",
   "nbconvert_exporter": "python",
   "pygments_lexer": "ipython3",
   "version": "3.10.12"
  }
 },
 "nbformat": 4,
 "nbformat_minor": 5
}
