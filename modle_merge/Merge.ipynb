{
 "cells": [
  {
   "cell_type": "code",
   "execution_count": 1,
   "id": "04e5e55b",
   "metadata": {},
   "outputs": [],
   "source": [
    "import torch\n",
    "from transformers import AutoModelForCausalLM, AutoTokenizer\n",
    "from peft import PeftModel\n"
   ]
  },
  {
   "cell_type": "code",
   "execution_count": null,
   "id": "06b1eac0",
   "metadata": {},
   "outputs": [],
   "source": [
    "\n",
    "adapter_path = []\n",
    "# 경로 설정\n",
    "base_model_path = \"/home/infidea/rebirth-hjun/meeting_model_weights/kanana-1.5-8b-instruct-2505\"\n",
    "# adapter_path.append(\"/home/infidea/rebirth-hjun/KRAG_2025/trained_model/kanana-1.5-8b-instruct-2505-lora-20250715-1532\")\n",
    "adapter_path.append(\"/home/infidea/rebirth-hjun/KRAG_2025/trained_model/kanana-1.5-8b-instruct-2505-lora-20250728-1009\")\n",
    "# adapter_path.append(\"/home/infidea/rebirth-hjun/KRAG_2025/trained_model/kanana-1.5-8b-instruct-2505-lora-20250719-1945\")\n",
    "# merged_model_path = adapter_path.split(\"/\")[-1]\n",
    "# merged_model_path = \"./output_dir\"\n",
    "\n",
    "# 디바이스 설정\n",
    "device_arg = {\"device_map\": \"auto\"}"
   ]
  },
  {
   "cell_type": "code",
   "execution_count": 3,
   "id": "78f8b246",
   "metadata": {},
   "outputs": [
    {
     "name": "stdout",
     "output_type": "stream",
     "text": [
      "Loading base model from: /home/infidea/rebirth-hjun/meeting_model_weights/kanana-1.5-8b-instruct-2505\n"
     ]
    },
    {
     "data": {
      "application/vnd.jupyter.widget-view+json": {
       "model_id": "1542971036fd485ea5174e0149676a41",
       "version_major": 2,
       "version_minor": 0
      },
      "text/plain": [
       "Loading checkpoint shards:   0%|          | 0/4 [00:00<?, ?it/s]"
      ]
     },
     "metadata": {},
     "output_type": "display_data"
    }
   ],
   "source": [
    "# 베이스 모델 로드\n",
    "print(f\"Loading base model from: {base_model_path}\")\n",
    "base_model = AutoModelForCausalLM.from_pretrained(\n",
    "    base_model_path,\n",
    "    return_dict=True,\n",
    "    torch_dtype=torch.float16,\n",
    "    **device_arg\n",
    ")\n"
   ]
  },
  {
   "cell_type": "code",
   "execution_count": 4,
   "id": "5431b77a",
   "metadata": {},
   "outputs": [
    {
     "name": "stdout",
     "output_type": "stream",
     "text": [
      "Loading and merging PEFT from: ['/home/infidea/rebirth-hjun/KRAG_2025/trained_model/kanana-1.5-8b-instruct-2505-lora-20250728-1009']\n",
      "Saving merged model to: kanana-1.5-8b-instruct-2505-lora-20250728-1009\n",
      "✅ 모델과 토크나이저 저장 완료\n"
     ]
    }
   ],
   "source": [
    "# LoRA 어댑터 로드 및 병합\n",
    "print(f\"Loading and merging PEFT from: {adapter_path}\")\n",
    "tokenizer = AutoTokenizer.from_pretrained(base_model_path)\n",
    "\n",
    "for i in adapter_path:\n",
    "    merged_model_path = i.split(\"/\")[-1]\n",
    "    peft_model = PeftModel.from_pretrained(base_model, i)\n",
    "    merged_model = peft_model.merge_and_unload()\n",
    "    print(f\"Saving merged model to: {merged_model_path}\")\n",
    "    merged_model .save_pretrained(merged_model_path)\n",
    "    tokenizer.save_pretrained(merged_model_path)\n",
    "    print(\"✅ 모델과 토크나이저 저장 완료\")"
   ]
  },
  {
   "cell_type": "code",
   "execution_count": 9,
   "id": "089c23d8",
   "metadata": {},
   "outputs": [],
   "source": [
    "# 토크나이저 로드 776542490961\n",
    "\n"
   ]
  },
  {
   "cell_type": "code",
   "execution_count": 3,
   "id": "62fa4072",
   "metadata": {},
   "outputs": [],
   "source": [
    "# 변수 세팅\n",
    "OUTPUT_PATH = '0728_4' + '-merge'\n",
    "LORA_MERGE_CACHE = \"/tmp\"  # 로라 병합 캐시 저장 경로\n",
    "CONFIG_YML = \"/home/infidea/rebirth-hjun/KRAG_2025/modle_merge/config.yaml\"  # config(설정) yml 파일 경로 \n",
    "COPY_TOKENIZER = True  # 토크나이저 있는거 쓰기\n",
    "LAZY_UNPICKLE = True  # 실험적인 저용량 모델 로더 기능 활성화\n",
    "LOW_CPU_MEMORY = True  # 서버 성능 좋으면 True 하면 됨"
   ]
  },
  {
   "cell_type": "code",
   "execution_count": 4,
   "id": "728a9660",
   "metadata": {},
   "outputs": [
    {
     "name": "stderr",
     "output_type": "stream",
     "text": [
      "Warmup loader cache: 100%|██████████| 2/2 [00:00<00:00, 409.54it/s]\n",
      "Executing graph: 100%|██████████| 1457/1457 [04:43<00:00,  5.13it/s]"
     ]
    },
    {
     "name": "stdout",
     "output_type": "stream",
     "text": [
      "Done!\n"
     ]
    },
    {
     "name": "stderr",
     "output_type": "stream",
     "text": [
      "\n"
     ]
    }
   ],
   "source": [
    "# 패키지 임포트\n",
    "import torch\n",
    "import yaml\n",
    "\n",
    "from mergekit.config import MergeConfiguration\n",
    "from mergekit.merge import MergeOptions, run_merge\n",
    "\n",
    "# yml 파일 설정값 불러오기\n",
    "with open(CONFIG_YML, \"r\", encoding=\"utf-8\") as fp:\n",
    "    merge_config = MergeConfiguration.model_validate(yaml.safe_load(fp))\n",
    "\n",
    "run_merge(\n",
    "    merge_config,\n",
    "    out_path=OUTPUT_PATH,\n",
    "    options=MergeOptions(\n",
    "        lora_merge_cache=LORA_MERGE_CACHE,\n",
    "        cuda=torch.cuda.is_available(), # GPU 세팅\n",
    "        copy_tokenizer=COPY_TOKENIZER, # 토크나이저\n",
    "        lazy_unpickle=LAZY_UNPICKLE, \n",
    "        low_cpu_memory=LOW_CPU_MEMORY,\n",
    "    ),\n",
    ")\n",
    "print(\"Done!\")"
   ]
  },
  {
   "cell_type": "code",
   "execution_count": null,
   "id": "4c77ec52",
   "metadata": {},
   "outputs": [],
   "source": []
  }
 ],
 "metadata": {
  "kernelspec": {
   "display_name": "Python 3",
   "language": "python",
   "name": "python3"
  },
  "language_info": {
   "codemirror_mode": {
    "name": "ipython",
    "version": 3
   },
   "file_extension": ".py",
   "mimetype": "text/x-python",
   "name": "python",
   "nbconvert_exporter": "python",
   "pygments_lexer": "ipython3",
   "version": "3.10.12"
  }
 },
 "nbformat": 4,
 "nbformat_minor": 5
}
